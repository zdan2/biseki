{
 "cells": [
  {
   "cell_type": "code",
   "execution_count": null,
   "metadata": {},
   "outputs": [],
   "source": [
    "import sympy\n"
   ]
  },
  {
   "cell_type": "code",
   "execution_count": null,
   "metadata": {},
   "outputs": [],
   "source": [
    "#11 微分公式の確認\n",
    "#f(x)=3*x**2-4*x+5\n",
    "#f'(x)=6*x-4\n",
    "x = sympy.symbols('x')\n",
    "express=3*x**2-4*x+5\n",
    "y=sympy.diff(express,x)\n",
    "print(y)"
   ]
  },
  {
   "cell_type": "code",
   "execution_count": null,
   "metadata": {},
   "outputs": [],
   "source": [
    "#12微分公式の確認（指数関数）\n",
    "express=sympy.exp(x)\n",
    "y=sympy.diff(express,x)\n",
    "print(y)\n",
    "exp2=2*sympy.exp(x)\n",
    "y2=sympy.diff(exp2)\n",
    "print(y2)"
   ]
  },
  {
   "cell_type": "code",
   "execution_count": null,
   "metadata": {},
   "outputs": [],
   "source": [
    "#13微分公式の確認（三角関数）\n",
    "fx=sympy.cos(x)\n",
    "y=sympy.diff(fx)\n",
    "print('cos(x)の導関数：',y)\n",
    "fx=sympy.sin(x)\n",
    "y=sympy.diff(fx)\n",
    "print('sin(x)の導関数：',y)\n",
    "fx=sympy.tan(x)\n",
    "y=sympy.diff(fx)\n",
    "print('tan(x)の導関数：',y)"
   ]
  },
  {
   "cell_type": "code",
   "execution_count": null,
   "metadata": {},
   "outputs": [],
   "source": [
    "#14 積の法則\n",
    "fx=x*x*sympy.sin(x)\n",
    "y=sympy.diff(fx)\n",
    "print('x^2*sin(x)の導関数：',y)"
   ]
  },
  {
   "cell_type": "code",
   "execution_count": null,
   "metadata": {},
   "outputs": [],
   "source": [
    "#15 積の法則\n",
    "fx=sympy.sin(x)/(x*x)\n",
    "y=sympy.diff(fx)\n",
    "print('sin(x)/x^2の導関数：',y)"
   ]
  },
  {
   "cell_type": "code",
   "execution_count": null,
   "metadata": {},
   "outputs": [],
   "source": [
    "#16 chain rule\n",
    "fx=sympy.sin(x*x)\n",
    "y=sympy.diff(fx)\n",
    "print('sin(x^2)の導関数：',y)"
   ]
  },
  {
   "cell_type": "code",
   "execution_count": null,
   "metadata": {},
   "outputs": [],
   "source": [
    "#17 chain rule\n",
    "fx=sympy.exp(3*x+1)\n",
    "y=sympy.diff(fx)\n",
    "print('exp(3*x+1)の導関数：',y)"
   ]
  },
  {
   "cell_type": "code",
   "execution_count": null,
   "metadata": {},
   "outputs": [],
   "source": [
    "#18高次関数\n",
    "fx=x**3\n",
    "y1=sympy.diff(fx,x)\n",
    "y2=sympy.diff(y1,x)\n",
    "print(y1)\n",
    "print(y2)\n",
    "\n",
    "from sympy.plotting import plot\n",
    "#import matplotlib.pyplot as plt\n",
    "\n",
    "plot(\n",
    "    (y1, (x, -sympy.pi, sympy.pi)),  \n",
    "    (y2, (x, -sympy.pi, sympy.pi)), \n",
    "    title=f'Plot of {y1}, {y2}',\n",
    "    xlabel='x',\n",
    "    ylabel='y',\n",
    "    legend=True # 凡例を表示\n",
    ")"
   ]
  },
  {
   "cell_type": "code",
   "execution_count": null,
   "metadata": {},
   "outputs": [],
   "source": [
    "#19高次関数\n",
    "fx=sympy.sin(x)\n",
    "y1=sympy.diff(fx,x)\n",
    "y2=sympy.diff(y1,x)\n",
    "y3=sympy.diff(y2,x)\n",
    "print(y1)\n",
    "print(y2)\n",
    "print(y3)\n",
    "\n",
    "from sympy.plotting import plot_parametric,plot\n",
    "#import matplotlib.pyplot as plt\n",
    "\n",
    "plot(\n",
    "    (y1, (x, -sympy.pi, sympy.pi)),  \n",
    "    (y2, (x, -sympy.pi, sympy.pi)), \n",
    "    (y3, (x, -sympy.pi, sympy.pi)),\n",
    "    title=f'Plot of {y1}, {y2}, {y3}',\n",
    "    xlabel='x',\n",
    "    ylabel='y',\n",
    "    legend=True # 凡例を表示\n",
    ")\n"
   ]
  },
  {
   "cell_type": "code",
   "execution_count": null,
   "metadata": {},
   "outputs": [],
   "source": [
    "#20パラメトリック微分\n",
    "# 変数 t を定義します\n",
    "t = sympy.symbols('t')\n",
    "\n",
    "# 関数 x(t) と y(t) を定義します\n",
    "x_t = t**2\n",
    "y_t = t**3\n",
    "\n",
    "# dx/dt と dy/dt を計算します\n",
    "dx_dt = sympy.diff(x_t, t)\n",
    "dy_dt = sympy.diff(y_t, t)\n",
    "\n",
    "# dy/dx を計算します\n",
    "dy_dx = dy_dt / dx_dt\n",
    "\n",
    "# 結果を表示します\n",
    "print(f\"x(t) = {x_t}\")\n",
    "print(f\"y(t) = {y_t}\")\n",
    "print(f\"dx/dt = {dx_dt}\")\n",
    "print(f\"dy/dt = {dy_dt}\")\n",
    "print(f\"dy/dx = {dy_dx}\")\n",
    "\n",
    "# 簡単化した結果も表示します\n",
    "print(f\"dy/dx (simplified) = {sympy.simplify(dy_dx)}\")\n",
    "\n",
    "from sympy.plotting import plot_parametric\n",
    "\n",
    "plot_parametric(x_t, y_t, (t, -2, 2), title='Parametric Plot of x(t)=t^2, y(t)=t^3', xlabel='x(t)', ylabel='y(t)')\n"
   ]
  }
 ],
 "metadata": {
  "kernelspec": {
   "display_name": "venv",
   "language": "python",
   "name": "python3"
  },
  "language_info": {
   "codemirror_mode": {
    "name": "ipython",
    "version": 3
   },
   "file_extension": ".py",
   "mimetype": "text/x-python",
   "name": "python",
   "nbconvert_exporter": "python",
   "pygments_lexer": "ipython3",
   "version": "3.13.2"
  }
 },
 "nbformat": 4,
 "nbformat_minor": 2
}
