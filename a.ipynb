{
 "cells": [
  {
   "cell_type": "code",
   "execution_count": null,
   "metadata": {},
   "outputs": [],
   "source": [
    "import numpy as np\n",
    "import matplotlib.pyplot as plt\n",
    "import sympy\n"
   ]
  },
  {
   "cell_type": "code",
   "execution_count": null,
   "metadata": {},
   "outputs": [],
   "source": [
    "import sys\n",
    "print(\"使用されている Python インタープリター:\", sys.executable)\n",
    "print(\"Python の検索パス:\", sys.path)"
   ]
  },
  {
   "cell_type": "code",
   "execution_count": null,
   "metadata": {},
   "outputs": [],
   "source": [
    "import matplotlib.font_manager as fm\n",
    "\n",
    "# 利用可能なフォントのリストを取得\n",
    "font_list = fm.findSystemFonts(fontpaths=None, fontext='ttf')\n",
    "\n",
    "# 日本語らしい名前のフォントを探してみる例\n",
    "# 環境によってフォント名が異なります\n",
    "japanese_fonts = [f for f in font_list if 'Gothic' in f or 'Mincho' in f or 'JP' in f or 'Jap' in f]\n",
    "print(\"利用可能な日本語（らしい）フォントのパスの例:\")\n",
    "for f in japanese_fonts[:10]: # 例として最初の10件を表示\n",
    "    print(f)"
   ]
  },
  {
   "cell_type": "code",
   "execution_count": null,
   "metadata": {},
   "outputs": [],
   "source": [
    "# 例: 'Hiragino Gothic Pro N' を使用する場合\n",
    "# 使用するフォント名は環境によって変更してください\n",
    "japanese_font_name = 'BIZ UDGothic' # または 'Yu Gothic', 'MS Gothic' など\n",
    "\n",
    "# 利用可能なフォント名を取得して、指定したフォント名が含まれているか確認する方が確実です\n",
    "font_families = [f.name for f in fm.fontManager.ttflist]\n",
    "if japanese_font_name not in font_families:\n",
    "    print(f\"警告: 指定されたフォント '{japanese_font_name}' が見つかりません。別のフォントを試してください。\")\n",
    "    # 見つからない場合の代替策やエラー処理をここに書くこともできます"
   ]
  },
  {
   "cell_type": "code",
   "execution_count": null,
   "metadata": {},
   "outputs": [],
   "source": [
    "x=np.linspace(-5,5,100)\n",
    "# 対応する y の値を計算します (y = f(x) = 2x + 1)\n",
    "y = 2 * x + 1\n",
    "\n",
    "# グラフをプロットします\n",
    "plt.plot(x, y, label='f(x) = 2x + 1')\n",
    "\n",
    "# グラフにタイトルと軸ラベルを追加します\n",
    "plt.title('Graph of f(x) = 2x + 1')\n",
    "plt.xlabel('x')\n",
    "plt.ylabel('f(x)')\n",
    "\n",
    "# グリッドを表示します \n",
    "plt.grid(True)\n",
    "\n",
    "# 凡例を表示します\n",
    "plt.legend()\n",
    "\n",
    "# グラフを表示します\n",
    "plt.show()"
   ]
  },
  {
   "cell_type": "code",
   "execution_count": null,
   "metadata": {},
   "outputs": [],
   "source": [
    "x=np.linspace(-2,2,100)\n",
    "# 対応する y の値を計算します (y = f(x) = 2x + 1)\n",
    "y1 = x * x\n",
    "y2 = x\n",
    "\n",
    "# グラフをプロットします\n",
    "plt.plot(x, y1, label='f(x) = x^2')\n",
    "plt.plot(x, y2, label='g(x) = x' )\n",
    "# グラフにタイトルと軸ラベルを追加します\n",
    "plt.title('Graph of f(x) = 2x + 1, g(x)=x')\n",
    "plt.xlabel('x')\n",
    "plt.ylabel('f(x)')\n",
    "\n",
    "# グリッドを表示します \n",
    "plt.grid(True)\n",
    "\n",
    "# 凡例を表示します\n",
    "plt.legend(title='関数')\n",
    "\n",
    "# グラフを表示します\n",
    "plt.show()"
   ]
  },
  {
   "cell_type": "code",
   "execution_count": null,
   "metadata": {},
   "outputs": [],
   "source": [
    "x=np.linspace(-2,2,100)\n",
    "# 対応する y の値を計算します (y = f(x) = 2x + 1)\n",
    "y1 = x * x\n",
    "y2 = x * x + 2 * x + 1\n",
    "y3 = (x+1)**2\n",
    "\n",
    "# グラフをプロットします\n",
    "plt.plot(x, y1, label='f(x) = x^2')\n",
    "plt.plot(x, y2, label='g(x) = x^2+2x+1' )\n",
    "#plt.plot(x, y3, label='h(x) = (x+1)^2')\n",
    "# グラフにタイトルと軸ラベルを追加します\n",
    "plt.title('Graph of f(x) = 2x + 1, g(x)=x')\n",
    "plt.xlabel('x')\n",
    "plt.ylabel('f(x)')\n",
    "\n",
    "# グリッドを表示します \n",
    "plt.grid(True)\n",
    "\n",
    "# 凡例を表示します\n",
    "plt.legend(title='関数')\n",
    "\n",
    "# グラフを表示します\n",
    "plt.show()"
   ]
  },
  {
   "cell_type": "code",
   "execution_count": null,
   "metadata": {},
   "outputs": [],
   "source": [
    "x=np.linspace(-5,5,100)\n",
    "# 対応する y の値を計算します (y = f(x) = 2x + 1)\n",
    "y1 = x * x -3 * x +2\n",
    "#y2 = x * x + 2 * x + 1\n",
    "#y3 = (x+1)**2\n",
    "\n",
    "# グラフをプロットします\n",
    "plt.plot(x, y1, label='f(x) = x^2-3x+2')\n",
    "#plt.plot(x, y2, label='g(x) = x^2+2x+1' )\n",
    "#plt.plot(x, y3, label='h(x) = (x+1)^2')\n",
    "# グラフにタイトルと軸ラベルを追加します\n",
    "plt.title('Graph of f(x) = 2x + 1, g(x)=x')\n",
    "plt.xlabel('x')\n",
    "plt.ylabel('f(x)')\n",
    "\n",
    "# グリッドを表示します \n",
    "plt.grid(True)\n",
    "\n",
    "# 凡例を表示します\n",
    "plt.legend(title='関数')\n",
    "\n",
    "# グラフを表示します\n",
    "plt.show()"
   ]
  },
  {
   "cell_type": "code",
   "execution_count": 9,
   "metadata": {},
   "outputs": [
    {
     "name": "stdout",
     "output_type": "stream",
     "text": [
      "2*x - 3\n"
     ]
    }
   ],
   "source": [
    "#5 Sympyを使った単純な式の微分\n",
    "import sympy\n",
    "\n",
    "x = sympy.symbols('x')\n",
    "expression = x**2 - 3*x + 2\n",
    "derivative = sympy.diff(expression, x)\n",
    "\n",
    "print(derivative) "
   ]
  },
  {
   "cell_type": "code",
   "execution_count": null,
   "metadata": {},
   "outputs": [],
   "source": [
    "#6 Sympyで数値代入\n",
    "print(derivative.subs(x,5))"
   ]
  },
  {
   "cell_type": "code",
   "execution_count": null,
   "metadata": {},
   "outputs": [],
   "source": [
    "#7 関数定義と評価\n",
    "def f(x):\n",
    "    return x**3 - 2*x + 5\n",
    "r=[]\n",
    "for i in range(-3,4):\n",
    "    r.append((f(i)))\n",
    "print(r)\n",
    "y=[f(i) for i in range(-3,4)]\n",
    "print(y)"
   ]
  },
  {
   "cell_type": "code",
   "execution_count": null,
   "metadata": {},
   "outputs": [],
   "source": [
    "#9簡単な近似計算\n",
    "import numpy as np\n",
    "import matplotlib.pyplot as plt\n",
    "x=np.arange(0,10.1,.1)\n",
    "y=np.sin(x)\n",
    "\n",
    "x_list = x.tolist()\n",
    "y_list = y.tolist()\n",
    "\n",
    "# 4. グラフ化\n",
    "plt.figure(figsize=(8, 4))\n",
    "plt.plot(x, y)        # デフォルト色・線種\n",
    "plt.title(\"y = sin(x)\")\n",
    "plt.xlabel(\"x\")\n",
    "plt.ylabel(\"sin(x)\")\n",
    "plt.grid(True)\n",
    "plt.show()"
   ]
  },
  {
   "cell_type": "code",
   "execution_count": null,
   "metadata": {},
   "outputs": [],
   "source": [
    "#9簡単な近似計算\n",
    "import numpy as np\n",
    "import matplotlib.pyplot as plt\n",
    "x=np.arange(0,10.1,.1)\n",
    "y=np.log(x)\n",
    "\n",
    "x_list = x.tolist()\n",
    "y_list = y.tolist()\n",
    "\n",
    "# 4. グラフ化\n",
    "plt.figure(figsize=(8, 4))\n",
    "plt.plot(x, y)        # デフォルト色・線種\n",
    "plt.title(\"y = log(x)\")\n",
    "plt.xlabel(\"x\")\n",
    "plt.ylabel(\"sin(x)\")\n",
    "plt.grid(True)\n",
    "plt.show()"
   ]
  }
 ],
 "metadata": {
  "kernelspec": {
   "display_name": "venv",
   "language": "python",
   "name": "python3"
  },
  "language_info": {
   "codemirror_mode": {
    "name": "ipython",
    "version": 3
   },
   "file_extension": ".py",
   "mimetype": "text/x-python",
   "name": "python",
   "nbconvert_exporter": "python",
   "pygments_lexer": "ipython3",
   "version": "3.13.2"
  }
 },
 "nbformat": 4,
 "nbformat_minor": 2
}
